{
  "nbformat": 4,
  "nbformat_minor": 0,
  "metadata": {
    "colab": {
      "provenance": [],
      "include_colab_link": true
    },
    "kernelspec": {
      "name": "python3",
      "display_name": "Python 3"
    },
    "language_info": {
      "name": "python"
    }
  },
  "cells": [
    {
      "cell_type": "markdown",
      "metadata": {
        "id": "view-in-github",
        "colab_type": "text"
      },
      "source": [
        "<a href=\"https://colab.research.google.com/github/dayanenubia/RECONSTRUCAO-DA-TRAJETORIA-DE-PROJETEIS-BALISTICOS-USANDO-ALGORITMOS-GENETICOS/blob/main/Reconstru%C3%A7%C3%A3o%20da%20Trajet%C3%B3ria.ipynb\" target=\"_parent\"><img src=\"https://colab.research.google.com/assets/colab-badge.svg\" alt=\"Open In Colab\"/></a>"
      ]
    },
    {
      "cell_type": "code",
      "execution_count": null,
      "metadata": {
        "id": "J1Ct1wgfHN_n"
      },
      "outputs": [],
      "source": [
        "import random"
      ]
    },
    {
      "cell_type": "code",
      "source": [
        "# Definição dos parâmetros do AG\n",
        "TAMANHO_POPULACAO = 100\n",
        "TAXA_CROSSOVER = 0.8\n",
        "TAXA_MUTACAO = 0.1\n",
        "GERACOES = 200\n"
      ],
      "metadata": {
        "id": "BdvzMvXBJn1J"
      },
      "execution_count": null,
      "outputs": []
    },
    {
      "cell_type": "code",
      "source": [
        "# Função de inicialização da população\n",
        "def inicializar_populacao(tamanho_populacao, tamanho_individuo):\n",
        "    return [[random.uniform(-10, 10) for _ in range(tamanho_individuo)] for _ in range(tamanho_populacao)]\n"
      ],
      "metadata": {
        "id": "KvC6edq_JqsR"
      },
      "execution_count": null,
      "outputs": []
    },
    {
      "cell_type": "code",
      "source": [
        "# Função de avaliação da aptidão\n",
        "def avaliar_aptidao(individuo, alvo):\n",
        "    return sum((individuo[i] - alvo[i]) ** 2 for i in range(len(individuo)))\n"
      ],
      "metadata": {
        "id": "WtnOZfGKJthq"
      },
      "execution_count": null,
      "outputs": []
    },
    {
      "cell_type": "code",
      "source": [
        "\n",
        "# Função de crossover\n",
        "def crossover(pai1, pai2):\n",
        "    ponto_corte = random.randint(1, len(pai1) - 1)\n",
        "    return pai1[:ponto_corte] + pai2[ponto_corte:]\n"
      ],
      "metadata": {
        "id": "bSB7LhbaJ49p"
      },
      "execution_count": null,
      "outputs": []
    },
    {
      "cell_type": "code",
      "source": [
        "# Função de mutação\n",
        "def mutacao(individuo, taxa_mutacao):\n",
        "    for i in range(len(individuo)):\n",
        "        if random.random() < taxa_mutacao:\n",
        "            individuo[i] += random.uniform(-1, 1)\n"
      ],
      "metadata": {
        "id": "ag3AwsTTJ7ma"
      },
      "execution_count": null,
      "outputs": []
    },
    {
      "cell_type": "code",
      "source": [
        "# Função de seleção dos pais\n",
        "def selecionar_pais(populacao, aptidoes):\n",
        "    total_aptidao = sum(aptidoes)\n",
        "    pick = random.uniform(0, total_aptidao)\n",
        "    atual = 0\n",
        "    for i, aptidao in enumerate(aptidoes):\n",
        "        atual += aptidao\n",
        "        if atual > pick:\n",
        "            return populacao[i]\n"
      ],
      "metadata": {
        "id": "KGd6aJpBJ-Nr"
      },
      "execution_count": null,
      "outputs": []
    },
    {
      "cell_type": "code",
      "source": [
        "# Algoritmo Genético\n",
        "def algoritmo_genetico(tamanho_populacao, tamanho_individuo, taxa_crossover, taxa_mutacao, geracoes, alvo):\n",
        "    populacao = inicializar_populacao(tamanho_populacao, tamanho_individuo)\n",
        "    for geracao in range(geracoes):\n",
        "        aptidoes = [avaliar_aptidao(individuo, alvo) for individuo in populacao]\n",
        "        nova_populacao = []\n",
        "        for _ in range(tamanho_populacao // 2):\n",
        "            pai1 = selecionar_pais(populacao, aptidoes)\n",
        "            pai2 = selecionar_pais(populacao, aptidoes)\n",
        "            if random.random() < taxa_crossover:\n",
        "                filho1 = crossover(pai1, pai2)\n",
        "                filho2 = crossover(pai2, pai1)\n",
        "            else:\n",
        "                filho1, filho2 = pai1, pai2\n",
        "            mutacao(filho1, taxa_mutacao)\n",
        "            mutacao(filho2, taxa_mutacao)\n",
        "            nova_populacao.extend([filho1, filho2])\n",
        "        populacao = nova_populacao\n",
        "        melhor_aptidao = min(aptidoes)\n",
        "        print(f'Geração {geracao + 1}: Melhor aptidão = {melhor_aptidao}')\n",
        "    melhor_individuo = populacao[aptidoes.index(min(aptidoes))]\n",
        "    return melhor_individuo\n"
      ],
      "metadata": {
        "id": "TASegObmKBIA"
      },
      "execution_count": null,
      "outputs": []
    },
    {
      "cell_type": "code",
      "source": [
        "# Parâmetros do problema\n",
        "TAMANHO_INDIVIDUO = 3  # Coordenadas espaciais (x, y, z)\n",
        "ALVO = [2.5, -1.7, 4.3]  # Ponto de lançamento verdadeiro\n"
      ],
      "metadata": {
        "id": "PuVRpquDKC85"
      },
      "execution_count": null,
      "outputs": []
    },
    {
      "cell_type": "code",
      "source": [
        "# Execução do algoritmo\n",
        "melhor_solucao = algoritmo_genetico(TAMANHO_POPULACAO, TAMANHO_INDIVIDUO, TAXA_CROSSOVER, TAXA_MUTACAO, GERACOES, ALVO)\n",
        "print('Melhor solução encontrada:', melhor_solucao)\n"
      ],
      "metadata": {
        "colab": {
          "base_uri": "https://localhost:8080/"
        },
        "id": "EqKuyJD00aSJ",
        "outputId": "b014d866-0ea0-46e1-a53d-3ca770416e90"
      },
      "execution_count": null,
      "outputs": [
        {
          "output_type": "stream",
          "name": "stdout",
          "text": [
            "Geração 1: Melhor aptidão = 6.020158606652695\n",
            "Geração 2: Melhor aptidão = 13.945856846206649\n",
            "Geração 3: Melhor aptidão = 27.230560569056298\n",
            "Geração 4: Melhor aptidão = 71.34490174438582\n",
            "Geração 5: Melhor aptidão = 82.56182875894528\n",
            "Geração 6: Melhor aptidão = 125.79025260658034\n",
            "Geração 7: Melhor aptidão = 146.97223927025362\n",
            "Geração 8: Melhor aptidão = 146.97223927025362\n",
            "Geração 9: Melhor aptidão = 191.22028251339657\n",
            "Geração 10: Melhor aptidão = 184.34761935083748\n",
            "Geração 11: Melhor aptidão = 234.62343932106717\n",
            "Geração 12: Melhor aptidão = 166.77027571693947\n",
            "Geração 13: Melhor aptidão = 219.06001216237507\n",
            "Geração 14: Melhor aptidão = 254.03268715088848\n",
            "Geração 15: Melhor aptidão = 281.08905662087477\n",
            "Geração 16: Melhor aptidão = 281.08905662087477\n",
            "Geração 17: Melhor aptidão = 281.08905662087477\n",
            "Geração 18: Melhor aptidão = 331.74036830261593\n",
            "Geração 19: Melhor aptidão = 323.3843157572518\n",
            "Geração 20: Melhor aptidão = 316.84557763670324\n",
            "Geração 21: Melhor aptidão = 346.62215177290534\n",
            "Geração 22: Melhor aptidão = 367.1636731375321\n",
            "Geração 23: Melhor aptidão = 369.5913491341644\n",
            "Geração 24: Melhor aptidão = 337.9119125394126\n",
            "Geração 25: Melhor aptidão = 380.2193139924247\n",
            "Geração 26: Melhor aptidão = 377.71827324820015\n",
            "Geração 27: Melhor aptidão = 377.9548182538614\n",
            "Geração 28: Melhor aptidão = 405.68037353771206\n",
            "Geração 29: Melhor aptidão = 374.71782396104027\n",
            "Geração 30: Melhor aptidão = 384.956431117202\n",
            "Geração 31: Melhor aptidão = 372.8935644396857\n",
            "Geração 32: Melhor aptidão = 356.98418004917716\n",
            "Geração 33: Melhor aptidão = 353.906869401241\n",
            "Geração 34: Melhor aptidão = 356.98418004917716\n",
            "Geração 35: Melhor aptidão = 371.9336205643533\n",
            "Geração 36: Melhor aptidão = 389.3346422548301\n",
            "Geração 37: Melhor aptidão = 418.27107571019457\n",
            "Geração 38: Melhor aptidão = 411.14866956320446\n",
            "Geração 39: Melhor aptidão = 412.4990208703299\n",
            "Geração 40: Melhor aptidão = 391.9473719148808\n",
            "Geração 41: Melhor aptidão = 376.6795986798436\n",
            "Geração 42: Melhor aptidão = 397.2100033384005\n",
            "Geração 43: Melhor aptidão = 396.3137401234894\n",
            "Geração 44: Melhor aptidão = 354.1570578396236\n",
            "Geração 45: Melhor aptidão = 385.52463436596764\n",
            "Geração 46: Melhor aptidão = 388.83980579679553\n",
            "Geração 47: Melhor aptidão = 377.7739826131136\n",
            "Geração 48: Melhor aptidão = 394.550969883323\n",
            "Geração 49: Melhor aptidão = 394.550969883323\n",
            "Geração 50: Melhor aptidão = 426.66183559589047\n",
            "Geração 51: Melhor aptidão = 416.6145728285695\n",
            "Geração 52: Melhor aptidão = 429.6189731869848\n",
            "Geração 53: Melhor aptidão = 476.28574605199594\n",
            "Geração 54: Melhor aptidão = 456.21782035053064\n",
            "Geração 55: Melhor aptidão = 457.9499461075774\n",
            "Geração 56: Melhor aptidão = 487.0736483358073\n",
            "Geração 57: Melhor aptidão = 508.44904495982894\n",
            "Geração 58: Melhor aptidão = 496.48494454911764\n",
            "Geração 59: Melhor aptidão = 508.771313801245\n",
            "Geração 60: Melhor aptidão = 542.9304250021312\n",
            "Geração 61: Melhor aptidão = 525.834338716278\n",
            "Geração 62: Melhor aptidão = 500.3417791087479\n",
            "Geração 63: Melhor aptidão = 526.8115297446589\n",
            "Geração 64: Melhor aptidão = 536.7874256043631\n",
            "Geração 65: Melhor aptidão = 571.5823974576954\n",
            "Geração 66: Melhor aptidão = 557.1104612803028\n",
            "Geração 67: Melhor aptidão = 547.6255124064753\n",
            "Geração 68: Melhor aptidão = 540.997653650859\n",
            "Geração 69: Melhor aptidão = 540.997653650859\n",
            "Geração 70: Melhor aptidão = 529.1101485819688\n",
            "Geração 71: Melhor aptidão = 550.7101469682267\n",
            "Geração 72: Melhor aptidão = 524.942693293613\n",
            "Geração 73: Melhor aptidão = 525.1188797593265\n",
            "Geração 74: Melhor aptidão = 525.1188797593265\n",
            "Geração 75: Melhor aptidão = 525.1188797593265\n",
            "Geração 76: Melhor aptidão = 539.9411281769195\n",
            "Geração 77: Melhor aptidão = 539.9411281769195\n",
            "Geração 78: Melhor aptidão = 548.2805883639672\n",
            "Geração 79: Melhor aptidão = 572.3269954154952\n",
            "Geração 80: Melhor aptidão = 557.33267824785\n",
            "Geração 81: Melhor aptidão = 552.4646010776271\n",
            "Geração 82: Melhor aptidão = 545.031666483026\n",
            "Geração 83: Melhor aptidão = 583.6827436171778\n",
            "Geração 84: Melhor aptidão = 569.2362745197897\n",
            "Geração 85: Melhor aptidão = 544.4187279681385\n",
            "Geração 86: Melhor aptidão = 536.3361128385977\n",
            "Geração 87: Melhor aptidão = 511.0921702435745\n",
            "Geração 88: Melhor aptidão = 553.9980583580887\n",
            "Geração 89: Melhor aptidão = 549.8422049378194\n",
            "Geração 90: Melhor aptidão = 539.4546561458251\n",
            "Geração 91: Melhor aptidão = 539.4546561458251\n",
            "Geração 92: Melhor aptidão = 566.885579989194\n",
            "Geração 93: Melhor aptidão = 553.1238895784593\n",
            "Geração 94: Melhor aptidão = 557.6172810791838\n",
            "Geração 95: Melhor aptidão = 581.7375863083828\n",
            "Geração 96: Melhor aptidão = 581.7375863083828\n",
            "Geração 97: Melhor aptidão = 609.1916473884887\n",
            "Geração 98: Melhor aptidão = 603.6404567202351\n",
            "Geração 99: Melhor aptidão = 601.9576659124525\n",
            "Geração 100: Melhor aptidão = 598.6227566195819\n",
            "Geração 101: Melhor aptidão = 579.2969237004191\n",
            "Geração 102: Melhor aptidão = 595.5569472590026\n",
            "Geração 103: Melhor aptidão = 621.8925466489654\n",
            "Geração 104: Melhor aptidão = 617.3309205877965\n",
            "Geração 105: Melhor aptidão = 682.4322851440375\n",
            "Geração 106: Melhor aptidão = 614.9982597814401\n",
            "Geração 107: Melhor aptidão = 628.0425238008202\n",
            "Geração 108: Melhor aptidão = 645.0707986147995\n",
            "Geração 109: Melhor aptidão = 650.2016884086285\n",
            "Geração 110: Melhor aptidão = 635.4339561559384\n",
            "Geração 111: Melhor aptidão = 666.6735773012217\n",
            "Geração 112: Melhor aptidão = 659.4935683389851\n",
            "Geração 113: Melhor aptidão = 656.0573657546959\n",
            "Geração 114: Melhor aptidão = 689.0453693642831\n",
            "Geração 115: Melhor aptidão = 652.0360459075376\n",
            "Geração 116: Melhor aptidão = 623.8451007773936\n",
            "Geração 117: Melhor aptidão = 652.0360459075376\n",
            "Geração 118: Melhor aptidão = 642.8560049540193\n",
            "Geração 119: Melhor aptidão = 642.8560049540193\n",
            "Geração 120: Melhor aptidão = 661.6058396599257\n",
            "Geração 121: Melhor aptidão = 676.6530126494896\n",
            "Geração 122: Melhor aptidão = 693.167362015101\n",
            "Geração 123: Melhor aptidão = 658.2088844082493\n",
            "Geração 124: Melhor aptidão = 700.0069780034065\n",
            "Geração 125: Melhor aptidão = 702.7288486055563\n",
            "Geração 126: Melhor aptidão = 705.6844306507883\n",
            "Geração 127: Melhor aptidão = 696.0517599048208\n",
            "Geração 128: Melhor aptidão = 698.7538564166598\n",
            "Geração 129: Melhor aptidão = 743.2537306136446\n",
            "Geração 130: Melhor aptidão = 699.5478154673507\n",
            "Geração 131: Melhor aptidão = 652.9573547592202\n",
            "Geração 132: Melhor aptidão = 654.3023385919436\n",
            "Geração 133: Melhor aptidão = 703.7971678577644\n",
            "Geração 134: Melhor aptidão = 741.9816324587856\n",
            "Geração 135: Melhor aptidão = 705.8207293686064\n",
            "Geração 136: Melhor aptidão = 688.8643910472964\n",
            "Geração 137: Melhor aptidão = 682.8868428825292\n",
            "Geração 138: Melhor aptidão = 669.8654409017315\n",
            "Geração 139: Melhor aptidão = 653.3553830352378\n",
            "Geração 140: Melhor aptidão = 700.8805748796926\n",
            "Geração 141: Melhor aptidão = 683.9737673200251\n",
            "Geração 142: Melhor aptidão = 689.4016094955175\n",
            "Geração 143: Melhor aptidão = 738.4787321625975\n",
            "Geração 144: Melhor aptidão = 733.4059008705972\n",
            "Geração 145: Melhor aptidão = 726.3295017630765\n",
            "Geração 146: Melhor aptidão = 725.2930807027244\n",
            "Geração 147: Melhor aptidão = 707.0020452735154\n",
            "Geração 148: Melhor aptidão = 707.0020452735154\n",
            "Geração 149: Melhor aptidão = 705.176003721995\n",
            "Geração 150: Melhor aptidão = 707.290964060163\n",
            "Geração 151: Melhor aptidão = 713.930918126626\n",
            "Geração 152: Melhor aptidão = 713.930918126626\n",
            "Geração 153: Melhor aptidão = 711.0614744329966\n",
            "Geração 154: Melhor aptidão = 823.7739897318615\n",
            "Geração 155: Melhor aptidão = 814.7600821955357\n",
            "Geração 156: Melhor aptidão = 819.0651854124171\n",
            "Geração 157: Melhor aptidão = 856.4896095563536\n",
            "Geração 158: Melhor aptidão = 822.5567221122867\n",
            "Geração 159: Melhor aptidão = 810.3031499097511\n",
            "Geração 160: Melhor aptidão = 852.2662535442997\n",
            "Geração 161: Melhor aptidão = 829.8114618676145\n",
            "Geração 162: Melhor aptidão = 791.2680600321661\n",
            "Geração 163: Melhor aptidão = 865.3780964199555\n",
            "Geração 164: Melhor aptidão = 844.9433766150694\n",
            "Geração 165: Melhor aptidão = 896.1860735055053\n",
            "Geração 166: Melhor aptidão = 913.1434898605796\n",
            "Geração 167: Melhor aptidão = 841.0710646412035\n",
            "Geração 168: Melhor aptidão = 841.0710646412035\n",
            "Geração 169: Melhor aptidão = 876.0318997897932\n",
            "Geração 170: Melhor aptidão = 821.569615665664\n",
            "Geração 171: Melhor aptidão = 933.3397385259091\n",
            "Geração 172: Melhor aptidão = 933.3397385259091\n",
            "Geração 173: Melhor aptidão = 913.5770563942922\n",
            "Geração 174: Melhor aptidão = 946.8907791295474\n",
            "Geração 175: Melhor aptidão = 898.3020656159865\n",
            "Geração 176: Melhor aptidão = 926.6869362678342\n",
            "Geração 177: Melhor aptidão = 958.1090271204469\n",
            "Geração 178: Melhor aptidão = 978.8967599758178\n",
            "Geração 179: Melhor aptidão = 933.317561120007\n",
            "Geração 180: Melhor aptidão = 1026.3806857229729\n",
            "Geração 181: Melhor aptidão = 993.2604258020008\n",
            "Geração 182: Melhor aptidão = 955.2708228067008\n",
            "Geração 183: Melhor aptidão = 946.2819192700658\n",
            "Geração 184: Melhor aptidão = 921.7882498715871\n",
            "Geração 185: Melhor aptidão = 950.6952841458017\n",
            "Geração 186: Melhor aptidão = 986.4875886939141\n",
            "Geração 187: Melhor aptidão = 1058.505011555283\n",
            "Geração 188: Melhor aptidão = 897.2624437393894\n",
            "Geração 189: Melhor aptidão = 950.55846009926\n",
            "Geração 190: Melhor aptidão = 955.5337605562821\n",
            "Geração 191: Melhor aptidão = 1036.1699961619133\n",
            "Geração 192: Melhor aptidão = 1004.0219814989247\n",
            "Geração 193: Melhor aptidão = 1041.9853065084728\n",
            "Geração 194: Melhor aptidão = 981.8714882935938\n",
            "Geração 195: Melhor aptidão = 981.8714882935938\n",
            "Geração 196: Melhor aptidão = 1036.0386860766175\n",
            "Geração 197: Melhor aptidão = 974.4115627504029\n",
            "Geração 198: Melhor aptidão = 969.9139734394817\n",
            "Geração 199: Melhor aptidão = 1004.8862719466968\n",
            "Geração 200: Melhor aptidão = 1056.4832320749972\n",
            "Melhor solução encontrada: [-17.383567310944663, 18.641411263420988, -20.19640691451308]\n"
          ]
        }
      ]
    },
    {
      "cell_type": "markdown",
      "source": [],
      "metadata": {
        "id": "zfP1u56R0lCA"
      }
    }
  ]
}